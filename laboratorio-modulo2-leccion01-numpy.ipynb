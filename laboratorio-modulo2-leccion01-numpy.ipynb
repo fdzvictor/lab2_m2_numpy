{
 "cells": [
  {
   "cell_type": "markdown",
   "id": "6db588db",
   "metadata": {},
   "source": [
    "<div style=\"text-align: center;\">\n",
    "  <img src=\"https://github.com/Hack-io-Data/Imagenes/blob/main/01-LogosHackio/logo_naranja@4x.png?raw=true\" alt=\"esquema\" />\n",
    "</div>"
   ]
  },
  {
   "cell_type": "code",
   "execution_count": 1,
   "id": "0d9ff23c",
   "metadata": {},
   "outputs": [],
   "source": [
    "import numpy as np\n"
   ]
  },
  {
   "cell_type": "markdown",
   "id": "11308d6c",
   "metadata": {},
   "source": [
    "\n",
    "# Laboratorio de NumPy"
   ]
  },
  {
   "cell_type": "markdown",
   "id": "a19d4596",
   "metadata": {},
   "source": [
    "#### Ejercicio 1 - Crea un array de 1D con los números del 0 al 9."
   ]
  },
  {
   "cell_type": "code",
   "execution_count": 13,
   "id": "9d4e1d42",
   "metadata": {},
   "outputs": [
    {
     "name": "stdout",
     "output_type": "stream",
     "text": [
      "[0 1 2 3 4 5 6 7 8 9]\n"
     ]
    }
   ],
   "source": [
    "array_uni = np.array(range (0,10))\n",
    "print (array_uni)"
   ]
  },
  {
   "cell_type": "markdown",
   "id": "f4a41f16",
   "metadata": {},
   "source": [
    "#### Ejercicio 2 - Convierte un array 1D en un array 2D con 2 filas y 5 columnas."
   ]
  },
  {
   "cell_type": "code",
   "execution_count": null,
   "id": "d3a15b71",
   "metadata": {},
   "outputs": [],
   "source": [
    "np.transpose"
   ]
  },
  {
   "cell_type": "code",
   "execution_count": 25,
   "id": "3d7cef3c",
   "metadata": {},
   "outputs": [
    {
     "data": {
      "text/plain": [
       "array([[0, 1, 2, 3, 4],\n",
       "       [5, 6, 7, 8, 9]])"
      ]
     },
     "execution_count": 25,
     "metadata": {},
     "output_type": "execute_result"
    }
   ],
   "source": [
    "array_uni.reshape(2,5)\n",
    "\n"
   ]
  },
  {
   "cell_type": "markdown",
   "id": "86bb8999",
   "metadata": {},
   "source": [
    "#### Ejercicio 3 - Encuentra los índices de los elementos con valor distinto de 0 en el siguiente array: [0, 2, 0, 3, 0, 4, 0]."
   ]
  },
  {
   "cell_type": "code",
   "execution_count": 26,
   "id": "d1fcfca4",
   "metadata": {},
   "outputs": [
    {
     "data": {
      "text/plain": [
       "(array([1, 2, 3, 4, 5, 6, 7, 8, 9], dtype=int64),)"
      ]
     },
     "execution_count": 26,
     "metadata": {},
     "output_type": "execute_result"
    }
   ],
   "source": [
    "np.where(array_uni != 0)"
   ]
  },
  {
   "cell_type": "markdown",
   "id": "1c548419",
   "metadata": {},
   "source": [
    "#### Ejercicio 4 - Crea un array 3x3 con valores aleatorios entre 0 y 1."
   ]
  },
  {
   "cell_type": "code",
   "execution_count": 54,
   "id": "e1d4f19f",
   "metadata": {},
   "outputs": [
    {
     "name": "stdout",
     "output_type": "stream",
     "text": [
      "[[0 1 1]\n",
      " [0 0 0]\n",
      " [0 0 1]]\n"
     ]
    }
   ],
   "source": [
    "array_3_0 = np.random.randint(0,2,(3,3))\n",
    "print (array_3_0)"
   ]
  },
  {
   "cell_type": "markdown",
   "id": "aee82811",
   "metadata": {},
   "source": [
    "#### Ejercicio 5 - Crea un array de 10 números aleatorios y encuentra el valor máximo y mínimo."
   ]
  },
  {
   "cell_type": "code",
   "execution_count": 57,
   "id": "81fea76e",
   "metadata": {},
   "outputs": [
    {
     "name": "stdout",
     "output_type": "stream",
     "text": [
      "98\n",
      "24\n"
     ]
    }
   ],
   "source": [
    "array_u_aleatorio = np.random.randint(1,100,10)\n",
    "print(np.max(array_u_aleatorio))\n",
    "print(np.min(array_u_aleatorio))"
   ]
  },
  {
   "cell_type": "markdown",
   "id": "6559375b",
   "metadata": {},
   "source": [
    "#### Ejercicio 6 - Crea un array de una dimensión e inviértelo. "
   ]
  },
  {
   "cell_type": "code",
   "execution_count": 64,
   "id": "31385db0",
   "metadata": {},
   "outputs": [
    {
     "name": "stdout",
     "output_type": "stream",
     "text": [
      "[72]\n"
     ]
    },
    {
     "data": {
      "text/plain": [
       "array([72])"
      ]
     },
     "execution_count": 64,
     "metadata": {},
     "output_type": "execute_result"
    }
   ],
   "source": [
    "unadim = np.random.randint (1,100,1)\n",
    "print(unadim)\n",
    "np.transpose(unadim)\n"
   ]
  },
  {
   "cell_type": "markdown",
   "id": "4457f046",
   "metadata": {},
   "source": [
    "\n",
    "#### Ejercicio 6 - Genera un array tridimensional de dimensiones (2, 3, 4) con valores enteros del 1 al 24.\n",
    "\n",
    "- Selecciona el primer `15` del array.\n",
    "\n",
    "- Selecciona todos los elementos del primer array. \n",
    "\n",
    "- Selecciona la última fila del último array\n"
   ]
  },
  {
   "cell_type": "code",
   "execution_count": 84,
   "id": "3cab04c9",
   "metadata": {},
   "outputs": [
    {
     "name": "stdout",
     "output_type": "stream",
     "text": [
      "El array es: \n",
      " [[[15 24 22  6]\n",
      "  [17 18  2  1]\n",
      "  [10 11 15  2]]\n",
      "\n",
      " [[12  9  4  6]\n",
      "  [21 16 16 17]\n",
      "  [ 8 18 12 20]]]\n",
      "15\n",
      "todos los del primer array: \n",
      "[[15 24 22  6]\n",
      " [17 18  2  1]\n",
      " [10 11 15  2]]\n",
      "ultima fila del ultimo array: \n",
      "[ 8 18 12 20]\n"
     ]
    }
   ],
   "source": [
    "array_tri = np.random.randint(1,25,(2,3,4))\n",
    "print(f\"El array es: \\n {array_tri}\")\n",
    "print (array_tri [array_tri == 15][0]) \n",
    "print (f\"todos los del primer array: \\n{array_tri [0]}\")\n",
    "print (f\"ultima fila del ultimo array: \\n{array_tri [1,2]}\")"
   ]
  },
  {
   "cell_type": "markdown",
   "id": "681b7e4e",
   "metadata": {},
   "source": [
    "\n",
    "#### Ejercicio 7 - Genera un array tridimensional de dimensiones (3, 2, 5) con valores enteros del 1 al 30.\n",
    "\n",
    "- Selecciona el subarray que contiene los dos primeros elementos de cada fila del primer array.\n",
    "\n",
    "- Selecciona el subarray que contiene todas las filas de los dos últimos arrays.\n"
   ]
  },
  {
   "cell_type": "code",
   "execution_count": null,
   "id": "b008a9aa",
   "metadata": {},
   "outputs": [],
   "source": []
  },
  {
   "cell_type": "markdown",
   "id": "4fabd9d0",
   "metadata": {},
   "source": [
    "#### Ejercicio 8 - Genera un array tridimensional de dimensiones (4, 3, 2) con valores enteros del 1 al 24.\n",
    "\n",
    "- Cambia todos los elementos de la segunda fila del segundo array por `0`.\n",
    "\n",
    "- Cambia todos los valores del último array a `-1`.\n"
   ]
  },
  {
   "cell_type": "code",
   "execution_count": 115,
   "id": "0ef45b69",
   "metadata": {},
   "outputs": [
    {
     "name": "stdout",
     "output_type": "stream",
     "text": [
      "[[[21  3]\n",
      "  [18 23]\n",
      "  [ 6 13]]\n",
      "\n",
      " [[ 2  6]\n",
      "  [20 11]\n",
      "  [ 7  7]]\n",
      "\n",
      " [[ 2 23]\n",
      "  [ 9  2]\n",
      "  [ 5 21]]\n",
      "\n",
      " [[19 23]\n",
      "  [10 10]\n",
      "  [11  3]]]\n",
      "[20 11]\n",
      "[0 0]\n",
      "[[[ 1  1]\n",
      "  [ 1  1]\n",
      "  [ 1  1]]\n",
      "\n",
      " [[ 2  6]\n",
      "  [ 0  0]\n",
      "  [ 7  7]]\n",
      "\n",
      " [[ 2 23]\n",
      "  [ 9  2]\n",
      "  [ 5 21]]\n",
      "\n",
      " [[19 23]\n",
      "  [10 10]\n",
      "  [11  3]]]\n"
     ]
    }
   ],
   "source": [
    "array_r = np.random.randint(1,24,(4,3,2))\n",
    "print (array_r)\n",
    "print (f\"{array_r [1,1]}\")\n",
    "array_r [1,1] = np.zeros_like(array_r [1,1])\n",
    "print(f\"{np.zeros_like(array_r [1,1])}\")\n",
    "\n",
    "array_r [0] = np.ones_like(array_r[-1:] *-1)\n",
    "print(array_r)\n"
   ]
  },
  {
   "cell_type": "markdown",
   "id": "c60bc3bb",
   "metadata": {},
   "source": [
    "\n",
    "#### Ejercicio 9 - Genera un array tridimensional de dimensiones (2, 4, 3) con valores enteros del -10 al 13.\n",
    "\n",
    "- Selecciona todos los elementos mayores a `5`.\n",
    "\n",
    "- Reemplaza todos los elementos negativos por `0`.\n"
   ]
  },
  {
   "cell_type": "code",
   "execution_count": 147,
   "id": "28bf9232",
   "metadata": {},
   "outputs": [
    {
     "name": "stdout",
     "output_type": "stream",
     "text": [
      "[ 8 12  6 10  6 10 12  6]\n",
      "[[[ 8  0]\n",
      "  [ 5  0]\n",
      "  [ 0  0]]\n",
      "\n",
      " [[12  2]\n",
      "  [ 0  0]\n",
      "  [ 0  0]]\n",
      "\n",
      " [[ 6 10]\n",
      "  [ 6  4]\n",
      "  [ 0 10]]\n",
      "\n",
      " [[12  0]\n",
      "  [ 0  6]\n",
      "  [ 0  0]]]\n"
     ]
    }
   ],
   "source": [
    "array_f = np.random.randint(-10,13,(4,3,2))\n",
    "mayor_5 = (array_f[array_f > 5])\n",
    "print (mayor_5)\n",
    "\n",
    "array_f[array_f < 0] = 0\n",
    "\n",
    "print (array_f)\n",
    "\n",
    "\n"
   ]
  },
  {
   "cell_type": "markdown",
   "id": "ab38a3be",
   "metadata": {},
   "source": [
    "#### Ejercicio 10 - Genera un array tridimensional de dimensiones (3, 3, 3) con valores enteros del 1 al 27.\n",
    "\n",
    "- Selecciona el subarray del segundo array que contenga solo las dos primeras columnas.\n",
    "\n",
    "- Selecciona todos los elementos del tercer array que sean mayores que `20`.\n"
   ]
  },
  {
   "cell_type": "code",
   "execution_count": 181,
   "id": "78c979cf",
   "metadata": {},
   "outputs": [
    {
     "name": "stdout",
     "output_type": "stream",
     "text": [
      "[[[ 5 25  8]\n",
      "  [21  4 21]\n",
      "  [15 18 23]]\n",
      "\n",
      " [[ 1  5 16]\n",
      "  [18 17  5]\n",
      "  [14 19  1]]\n",
      "\n",
      " [[11  1 14]\n",
      "  [26 10 15]\n",
      "  [ 5  9  6]]]\n",
      "\n",
      " [[ 5 16]\n",
      " [17  5]\n",
      " [19  1]]\n",
      "\n",
      " [26]\n"
     ]
    }
   ],
   "source": [
    "array_g = np.random.randint(1,27,(3,3,3))\n",
    "print (array_g)\n",
    "print (f\"\\n {array_g[1,:,1:3]}\")\n",
    "print (f\"\\n {np.array(array_g[-1][array_g[-1] > 20])}\")"
   ]
  },
  {
   "cell_type": "markdown",
   "id": "f1a00156",
   "metadata": {},
   "source": [
    "#### Ejercicio 11 - Crea un array de 10 números aleatorios y reemplaza los valores máximos y mínimos por 0."
   ]
  },
  {
   "cell_type": "code",
   "execution_count": 184,
   "id": "990fa526",
   "metadata": {},
   "outputs": [
    {
     "name": "stdout",
     "output_type": "stream",
     "text": [
      "\n",
      "[67  3  9 72 46 87 25 29 96  4]\n",
      "\n",
      "[67  0  9 72 46 87 25 29  0  4]\n"
     ]
    }
   ],
   "source": [
    "array_u_aleatorio = np.random.randint(1,100,10)\n",
    "print(f\"\\n{array_u_aleatorio}\\n\")\n",
    "max_condition = array_u_aleatorio == np.max(array_u_aleatorio) \n",
    "min_condition = array_u_aleatorio == np.min(array_u_aleatorio)\n",
    "\n",
    "array_u_aleatorio[max_condition] = 0\n",
    "array_u_aleatorio[min_condition] = 0\n",
    "\n",
    "print(array_u_aleatorio)"
   ]
  },
  {
   "cell_type": "markdown",
   "id": "781fafd0",
   "metadata": {},
   "source": [
    "#### Ejercicio 12 - Genera un array de 15 números aleatorios enteros entre 1 y 100 y reordénalo en orden ascendente."
   ]
  },
  {
   "cell_type": "code",
   "execution_count": 185,
   "id": "caa4fd47",
   "metadata": {},
   "outputs": [
    {
     "name": "stdout",
     "output_type": "stream",
     "text": [
      "[ 6 15 46 49 51 52 60 79 80 94]\n"
     ]
    }
   ],
   "source": [
    "array_15_aleatorio = np.random.randint(1,100,10)\n",
    "array_ordenado = np.sort(array_15_aleatorio)\n",
    "\n",
    "print(array_ordenado)"
   ]
  },
  {
   "cell_type": "markdown",
   "id": "45f10c3e",
   "metadata": {},
   "source": [
    "#### Ejercicio 11 - Calcula la suma de los elementos a lo largo de las filas y columnas en una matriz 4x4."
   ]
  },
  {
   "cell_type": "code",
   "execution_count": 190,
   "id": "90220788",
   "metadata": {},
   "outputs": [],
   "source": [
    "matriz_4x4 = np.random.randint(1,100,(4,4))\n",
    "matriz_sumada = np.sum(matriz_4x4,axis = 0)"
   ]
  },
  {
   "cell_type": "markdown",
   "id": "69b9751a",
   "metadata": {},
   "source": [
    "#### Ejercicio 12 - Crea una matriz de 5x5 con valores en el borde igual a 1 y en el interior igual a 0."
   ]
  },
  {
   "cell_type": "code",
   "execution_count": 202,
   "id": "eca81323",
   "metadata": {},
   "outputs": [
    {
     "name": "stdout",
     "output_type": "stream",
     "text": [
      "[[1. 1. 1. 1. 1.]\n",
      " [1. 0. 0. 0. 1.]\n",
      " [1. 0. 0. 0. 1.]\n",
      " [1. 0. 0. 0. 1.]\n",
      " [1. 1. 1. 1. 1.]]\n"
     ]
    }
   ],
   "source": [
    "matriz_5x5 =  np.zeros((5,5))\n",
    "matriz_5x5[0, :] = 1    \n",
    "matriz_5x5[-1, :] = 1     \n",
    "matriz_5x5[:, 0] = 1      \n",
    "matriz_5x5[:, -1] = 1 \n",
    "\n",
    "\n",
    "print(matriz_5x5)"
   ]
  },
  {
   "cell_type": "markdown",
   "id": "1ea8068d",
   "metadata": {},
   "source": [
    "#### Ejercicio 13 - Calcula la media y la desviación estándar de un array de 10 números aleatorios."
   ]
  },
  {
   "cell_type": "code",
   "execution_count": 205,
   "id": "05dd579d",
   "metadata": {},
   "outputs": [],
   "source": [
    "media = np.mean(array_u_aleatorio)\n",
    "desv = np.std(array_u_aleatorio)\n"
   ]
  },
  {
   "cell_type": "markdown",
   "id": "6add6669",
   "metadata": {},
   "source": [
    "#### Ejercicio 14 - Genera un array tridimensional de dimensiones (2, 3, 4) con valores enteros del 1 al 24.\n",
    "\n",
    "- Transpón el array para intercambiar los ejes de la forma (2, 3, 4) a (4, 3, 2).\n",
    "\n",
    "- Observa cómo cambian las posiciones de los elementos y sus índices después de la transposición. Explica en una celda de markdown que es lo que ha pasado. \n"
   ]
  },
  {
   "cell_type": "code",
   "execution_count": 216,
   "id": "ae98aca5",
   "metadata": {},
   "outputs": [
    {
     "name": "stdout",
     "output_type": "stream",
     "text": [
      "\n",
      " [[[ 5 20 12 23]\n",
      "  [19 14  8  3]\n",
      "  [19  9 13  2]]\n",
      "\n",
      " [[17  9  5  2]\n",
      "  [12  1 20 21]\n",
      "  [ 1  7 19 13]]]\n",
      "\n",
      "[[[ 5 17]\n",
      "  [19 12]\n",
      "  [19  1]]\n",
      "\n",
      " [[20  9]\n",
      "  [14  1]\n",
      "  [ 9  7]]\n",
      "\n",
      " [[12  5]\n",
      "  [ 8 20]\n",
      "  [13 19]]\n",
      "\n",
      " [[23  2]\n",
      "  [ 3 21]\n",
      "  [ 2 13]]]\n"
     ]
    }
   ],
   "source": [
    "array_14 = np.random.randint(1,24,(2,3,4))\n",
    "\n",
    "array_14_traspuesto = array_14.transpose(2,1,0)\n",
    "print(f\"\\n {array_14}\")\n",
    "print(f\"\\n{array_14_traspuesto}\")\n"
   ]
  },
  {
   "cell_type": "markdown",
   "id": "1e32b5e6",
   "metadata": {},
   "source": [
    "#### Ejercicio 15 - Genera un array tridimensional de dimensiones (3, 4, 2) con valores enteros del 1 al 24.\n",
    "\n",
    "- Transpón el array para intercambiar el primer y segundo eje, de manera que la nueva forma del array sea (4, 3, 2).\n"
   ]
  },
  {
   "cell_type": "code",
   "execution_count": 218,
   "id": "0146fdd6",
   "metadata": {},
   "outputs": [
    {
     "name": "stdout",
     "output_type": "stream",
     "text": [
      "\n",
      " [[[ 3  8]\n",
      "  [ 8 16]\n",
      "  [12  8]\n",
      "  [17 13]]\n",
      "\n",
      " [[13 16]\n",
      "  [ 8  1]\n",
      "  [22  5]\n",
      "  [ 9 20]]\n",
      "\n",
      " [[12 18]\n",
      "  [ 1 16]\n",
      "  [ 6  6]\n",
      "  [ 6 10]]]\n",
      "\n",
      " [[[ 3  8]\n",
      "  [13 16]\n",
      "  [12 18]]\n",
      "\n",
      " [[ 8 16]\n",
      "  [ 8  1]\n",
      "  [ 1 16]]\n",
      "\n",
      " [[12  8]\n",
      "  [22  5]\n",
      "  [ 6  6]]\n",
      "\n",
      " [[17 13]\n",
      "  [ 9 20]\n",
      "  [ 6 10]]]\n"
     ]
    }
   ],
   "source": [
    "array_15 = np.random.randint(1,24,(3,4,2))\n",
    "array_15_traspuesto = array_15.transpose(1,0,2)\n",
    "\n",
    "print(f\"\\n {array_15}\")\n",
    "print(f\"\\n {array_15_traspuesto}\")"
   ]
  },
  {
   "cell_type": "markdown",
   "id": "fcf92586",
   "metadata": {},
   "source": [
    "#### Ejercicio 16 - Genera un array tridimensional de dimensiones (3, 2, 4) con valores enteros del 1 al 24.\n",
    "\n",
    "- Realiza una rotación completa de los ejes para convertir la forma original (3, 2, 4) en (4, 3, 2).\n"
   ]
  },
  {
   "cell_type": "code",
   "execution_count": 220,
   "id": "dd2c7f27",
   "metadata": {},
   "outputs": [
    {
     "name": "stdout",
     "output_type": "stream",
     "text": [
      "\n",
      " [[[ 1 12 15  7]\n",
      "  [17  7  2 14]]\n",
      "\n",
      " [[17  5  3  4]\n",
      "  [12 19 14 11]]\n",
      "\n",
      " [[ 1 15 14 15]\n",
      "  [ 8 20 14  4]]]\n",
      "\n",
      " [[[ 1 17]\n",
      "  [17 12]\n",
      "  [ 1  8]]\n",
      "\n",
      " [[12  7]\n",
      "  [ 5 19]\n",
      "  [15 20]]\n",
      "\n",
      " [[15  2]\n",
      "  [ 3 14]\n",
      "  [14 14]]\n",
      "\n",
      " [[ 7 14]\n",
      "  [ 4 11]\n",
      "  [15  4]]]\n"
     ]
    }
   ],
   "source": [
    "array_16 = np.random.randint(1,24,(3,2,4))\n",
    "array_16_traspuesto = array_16.transpose(2,0,1)\n",
    "\n",
    "print(f\"\\n {array_16}\")\n",
    "print(f\"\\n {array_16_traspuesto}\")"
   ]
  },
  {
   "cell_type": "markdown",
   "id": "1795e11f",
   "metadata": {},
   "source": [
    "#### Ejercicio 17 - Manipulación de Arrays en 3D\n",
    "\n",
    "- Crea un array tridimensional con dimensiones (3, 4, 5) cuyos elementos sean números enteros aleatorios entre -10 y 10.\n",
    "\n",
    "- Crea un array vacío con la misma forma y dimensiones que el array creado anteriormente. Luego, reemplaza los valores de la matriz vacía basada en los valores del primer array bajo las siguientes condiciones:\n",
    "\n",
    "   - Si el valor es igual a la mediana, se reemplaza por `\"M\"`.\n",
    "\n",
    "   - Si el valor es mayor que la mediana, se reemplaza por `\"X\"`.\n",
    "\n",
    "   - Si el valor es menor que la mediana, se reemplaza por `\"Y\"`.\n",
    "\n",
    "   - Si el valor es igual al máximo, se reemplaza por `\"MAX\"`.\n",
    "\n",
    "   - Si el valor es igual al mínimo, se reemplaza por `\"MIN\"`.\n"
   ]
  },
  {
   "cell_type": "code",
   "execution_count": null,
   "id": "d309b397",
   "metadata": {},
   "outputs": [],
   "source": []
  },
  {
   "cell_type": "markdown",
   "id": "83794704",
   "metadata": {},
   "source": [
    "#### Ejercicio 18 - Verificación de Filas y Columnas Iguales\n",
    "\n",
    "Crea un array bidimensional de dimensiones 4x4, escribe un código para determinar si alguna fila es exactamente igual a alguna columna.\n",
    "\n",
    "**Reglas:**\n",
    "\n",
    "- No puedes usar funciones predefinidas de NumPy para comparar filas y columnas (`np.array_equal`, etc.).\n",
    "\n",
    "- Debes resolverlo con estructuras básicas de Python (bucles, condicionales, etc.).\n",
    "\n",
    "- Debes revisar si hay al menos una fila que coincida exactamente con alguna columna.\n",
    "\n",
    "**Pistas**:\n",
    "\n",
    "- Puedes recorrer cada fila y cada columna de la matriz usando bucles.\n",
    "\n",
    "- Para comparar una fila con una columna, puedes hacerlo elemento por elemento."
   ]
  },
  {
   "cell_type": "code",
   "execution_count": null,
   "id": "afd51c60",
   "metadata": {},
   "outputs": [],
   "source": []
  }
 ],
 "metadata": {
  "kernelspec": {
   "display_name": "base",
   "language": "python",
   "name": "python3"
  },
  "language_info": {
   "codemirror_mode": {
    "name": "ipython",
    "version": 3
   },
   "file_extension": ".py",
   "mimetype": "text/x-python",
   "name": "python",
   "nbconvert_exporter": "python",
   "pygments_lexer": "ipython3",
   "version": "3.11.7"
  }
 },
 "nbformat": 4,
 "nbformat_minor": 5
}
